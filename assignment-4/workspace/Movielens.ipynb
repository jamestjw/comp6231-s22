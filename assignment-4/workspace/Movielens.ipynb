{
  "cells": [
    {
      "cell_type": "code",
      "execution_count": 2,
      "id": "Do7ytptolhDa",
      "metadata": {
        "colab": {
          "base_uri": "https://localhost:8080/"
        },
        "id": "Do7ytptolhDa",
        "outputId": "bc91053a-8c75-4a5b-f0c2-96176adaf710"
      },
      "outputs": [
        {
          "name": "stdout",
          "output_type": "stream",
          "text": [
            "--2022-07-25 22:59:19--  https://setup.johnsnowlabs.com/colab.sh\n",
            "Resolving setup.johnsnowlabs.com (setup.johnsnowlabs.com)... 51.158.130.125\n",
            "Connecting to setup.johnsnowlabs.com (setup.johnsnowlabs.com)|51.158.130.125|:443... connected.\n",
            "HTTP request sent, awaiting response... 302 Moved Temporarily\n",
            "Location: https://raw.githubusercontent.com/JohnSnowLabs/spark-nlp/master/scripts/colab_setup.sh [following]\n",
            "--2022-07-25 22:59:20--  https://raw.githubusercontent.com/JohnSnowLabs/spark-nlp/master/scripts/colab_setup.sh\n",
            "Resolving raw.githubusercontent.com (raw.githubusercontent.com)... 185.199.108.133, 185.199.109.133, 185.199.110.133, ...\n",
            "Connecting to raw.githubusercontent.com (raw.githubusercontent.com)|185.199.108.133|:443... connected.\n",
            "HTTP request sent, awaiting response... 200 OK\n",
            "Length: 1191 (1.2K) [text/plain]\n",
            "Saving to: ‘STDOUT’\n",
            "\n",
            "-                   100%[===================>]   1.16K  --.-KB/s    in 0s      \n",
            "\n",
            "2022-07-25 22:59:20 (39.7 MB/s) - written to stdout [1191/1191]\n",
            "\n",
            "Installing PySpark 3.2.1 and Spark NLP 4.0.1\n",
            "setup Colab for PySpark 3.2.1 and Spark NLP 4.0.1\n",
            "Upgrading libcudnn8 to 8.1.0 for GPU\n",
            "\u001b[K     |████████████████████████████████| 281.4 MB 34 kB/s \n",
            "\u001b[K     |████████████████████████████████| 531 kB 45.8 MB/s \n",
            "\u001b[K     |████████████████████████████████| 198 kB 46.8 MB/s \n",
            "\u001b[?25h  Building wheel for pyspark (setup.py) ... \u001b[?25l\u001b[?25hdone\n"
          ]
        }
      ],
      "source": [
        "# Uncomment this line to run in Colab\n",
        "#!wget https://setup.johnsnowlabs.com/colab.sh -O - | bash /dev/stdin -p 3.2.1 -s 4.0.1 -g"
      ]
    },
    {
      "cell_type": "code",
      "execution_count": 95,
      "id": "9a59fbeb",
      "metadata": {
        "id": "9a59fbeb"
      },
      "outputs": [],
      "source": [
        "from pathlib import Path\n",
        "import requests\n",
        "import zipfile\n",
        "from pyspark.sql import SparkSession\n",
        "from pyspark.sql.functions import count, col, desc, min, avg, max, split, explode, regexp_extract"
      ]
    },
    {
      "cell_type": "code",
      "execution_count": 4,
      "id": "d802a4fd",
      "metadata": {
        "id": "d802a4fd"
      },
      "outputs": [],
      "source": [
        "data_dir = Path('./data')\n",
        "data_dir.mkdir(exist_ok=True)\n",
        "\n",
        "ml_data_dir = data_dir/'ml-latest-small'"
      ]
    },
    {
      "cell_type": "code",
      "execution_count": 5,
      "id": "f3665aa9",
      "metadata": {
        "id": "f3665aa9"
      },
      "outputs": [],
      "source": [
        "if not ml_data_dir.exists():\n",
        "    zip_output_path = data_dir/\"ml-latest-small.zip\"\n",
        "    data_url = \"http://files.grouplens.org/datasets/movielens/ml-latest-small.zip\"\n",
        "    response = requests.get(data_url)\n",
        "    open(zip_output_path, \"wb\").write(response.content)\n",
        "    with zipfile.ZipFile(zip_output_path, 'r') as zip_ref:\n",
        "        zip_ref.extractall(data_dir)"
      ]
    },
    {
      "cell_type": "code",
      "execution_count": 7,
      "id": "y9D02yz-nB-R",
      "metadata": {
        "id": "y9D02yz-nB-R"
      },
      "outputs": [],
      "source": [
        "# Uncomment this code block to run in colab\n",
        "\n",
        "# import findspark\n",
        "# findspark.init()"
      ]
    },
    {
      "cell_type": "code",
      "execution_count": 16,
      "id": "fbd0bc5a",
      "metadata": {
        "id": "fbd0bc5a"
      },
      "outputs": [],
      "source": [
        "spark = SparkSession \\\n",
        "            .builder \\\n",
        "            .appName(\"movielens-nb\") \\\n",
        "            .master(\"spark://spark-master:7077\") \\\n",
        "            .config(\"spark.executor.memory\", \"512m\") \\\n",
        "            .getOrCreate() \\"
      ]
    },
    {
      "cell_type": "code",
      "execution_count": null,
      "id": "mzmzQpnZqPRP",
      "metadata": {
        "id": "mzmzQpnZqPRP"
      },
      "outputs": [],
      "source": [
        "# Use this to run in Colab\n",
        "\n",
        "# spark = SparkSession \\\n",
        "#             .builder \\\n",
        "#             .appName(\"movielens-nb\") \\\n",
        "#             .master(\"local\") \\\n",
        "#             .config(\"spark.executor.memory\", \"512m\") \\\n",
        "#             .getOrCreate() \\"
      ]
    },
    {
      "cell_type": "code",
      "execution_count": 66,
      "id": "86eca708",
      "metadata": {
        "id": "86eca708"
      },
      "outputs": [],
      "source": [
        "movies_dataset_path = ml_data_dir/\"movies.csv\"\n",
        "ratings_dataset_path = ml_data_dir/\"ratings.csv\"\n",
        "tags_dataset_path = ml_data_dir/\"tags.csv\"\n",
        "\n",
        "assert movies_dataset_path.exists()\n",
        "assert ratings_dataset_path.exists()\n",
        "assert tags_dataset_path.exists()"
      ]
    },
    {
      "cell_type": "code",
      "execution_count": 67,
      "id": "5f46fa4b",
      "metadata": {
        "id": "5f46fa4b"
      },
      "outputs": [],
      "source": [
        "movies = spark.read.csv(str(movies_dataset_path), header=True)\n",
        "ratings = spark.read.csv(str(ratings_dataset_path), header=True)\n",
        "tags = spark.read.csv(str(tags_dataset_path), header=True)"
      ]
    },
    {
      "cell_type": "markdown",
      "id": "0788abc5",
      "metadata": {
        "id": "0788abc5"
      },
      "source": [
        "## How many movies of genre `drama` are there?"
      ]
    },
    {
      "cell_type": "code",
      "execution_count": 31,
      "id": "tDxyOAzOn0Ga",
      "metadata": {
        "colab": {
          "base_uri": "https://localhost:8080/"
        },
        "id": "tDxyOAzOn0Ga",
        "outputId": "89b35fa9-c2fb-424f-8aad-222d1b949f7e"
      },
      "outputs": [
        {
          "data": {
            "text/plain": [
              "4361"
            ]
          },
          "execution_count": 31,
          "metadata": {},
          "output_type": "execute_result"
        }
      ],
      "source": [
        "movies.where(movies.genres.contains('Drama')).count()"
      ]
    },
    {
      "cell_type": "markdown",
      "id": "AFaDu8LkoYf7",
      "metadata": {
        "id": "AFaDu8LkoYf7"
      },
      "source": [
        "## How many unique movies are rated, how many are not rated?"
      ]
    },
    {
      "cell_type": "code",
      "execution_count": 44,
      "id": "-170kvMRp5T2",
      "metadata": {
        "colab": {
          "base_uri": "https://localhost:8080/"
        },
        "id": "-170kvMRp5T2",
        "outputId": "ac43d3fe-c946-46b8-bdf0-dd2da4593caf"
      },
      "outputs": [
        {
          "name": "stdout",
          "output_type": "stream",
          "text": [
            "Total number of movies in the dataset: 9742\n"
          ]
        }
      ],
      "source": [
        "print(f\"Total number of movies in the dataset: {movies.count()}\")"
      ]
    },
    {
      "cell_type": "code",
      "execution_count": 45,
      "id": "aLh3dkF8oTG7",
      "metadata": {
        "id": "aLh3dkF8oTG7"
      },
      "outputs": [],
      "source": [
        "movie_ratings = movies.join(ratings, on=\"movieId\", how=\"outer\")"
      ]
    },
    {
      "cell_type": "code",
      "execution_count": 46,
      "id": "G-3p11V7o2C6",
      "metadata": {
        "colab": {
          "base_uri": "https://localhost:8080/"
        },
        "id": "G-3p11V7o2C6",
        "outputId": "783385d5-b57d-4071-eb71-84c5ae5f6799"
      },
      "outputs": [
        {
          "name": "stdout",
          "output_type": "stream",
          "text": [
            "Number of unique rated movies: 9724\n"
          ]
        }
      ],
      "source": [
        "num_unique_rated_movies = movie_ratings \\\n",
        "                          .where(movie_ratings.rating.isNotNull()) \\\n",
        "                          .select(\"movieId\") \\\n",
        "                          .distinct() \\\n",
        "                          .count()\n",
        "\n",
        "print(f\"Number of unique rated movies: {num_unique_rated_movies}\")"
      ]
    },
    {
      "cell_type": "code",
      "execution_count": 47,
      "id": "UGN7yzbVpV61",
      "metadata": {
        "colab": {
          "base_uri": "https://localhost:8080/"
        },
        "id": "UGN7yzbVpV61",
        "outputId": "ee6c1210-8a60-4925-974c-0eda597434cb"
      },
      "outputs": [
        {
          "name": "stdout",
          "output_type": "stream",
          "text": [
            "Number of unique unrated movies: 18\n"
          ]
        }
      ],
      "source": [
        "num_unique_unrated_movies = movie_ratings \\\n",
        "                          .where(movie_ratings.rating.isNull()) \\\n",
        "                          .select(\"movieId\") \\\n",
        "                          .distinct() \\\n",
        "                          .count()\n",
        "\n",
        "print(f\"Number of unique unrated movies: {num_unique_unrated_movies}\")"
      ]
    },
    {
      "cell_type": "markdown",
      "id": "nakChZnKqZYq",
      "metadata": {
        "id": "nakChZnKqZYq"
      },
      "source": [
        "## Who gave the most ratings, how many rates did the person make?"
      ]
    },
    {
      "cell_type": "code",
      "execution_count": 53,
      "id": "SnKNfrPVp9fc",
      "metadata": {
        "colab": {
          "base_uri": "https://localhost:8080/"
        },
        "id": "SnKNfrPVp9fc",
        "outputId": "369a2908-78f2-4873-b02c-cc7c125ce038"
      },
      "outputs": [
        {
          "name": "stdout",
          "output_type": "stream",
          "text": [
            "+------+----------+\n",
            "|userId|numRatings|\n",
            "+------+----------+\n",
            "|   414|      2698|\n",
            "+------+----------+\n",
            "only showing top 1 row\n",
            "\n"
          ]
        }
      ],
      "source": [
        "ratings \\\n",
        "  .groupBy(\"userId\") \\\n",
        "  .agg(count(\"movieId\").alias(\"numRatings\")) \\\n",
        "  .sort(desc(\"numRatings\")) \\\n",
        "  .show(1)"
      ]
    },
    {
      "cell_type": "markdown",
      "id": "U2vmUAbard0G",
      "metadata": {
        "id": "U2vmUAbard0G"
      },
      "source": [
        "## Compute min, average, max rating per movie."
      ]
    },
    {
      "cell_type": "code",
      "execution_count": 59,
      "id": "1xZ9ySeKrbkd",
      "metadata": {
        "colab": {
          "base_uri": "https://localhost:8080/"
        },
        "id": "1xZ9ySeKrbkd",
        "outputId": "01e03f13-db3c-418d-c444-77b5e834999f"
      },
      "outputs": [
        {
          "name": "stdout",
          "output_type": "stream",
          "text": [
            "+-------+---------+---------+------------------+\n",
            "|movieId|minRating|maxRating|         avgRating|\n",
            "+-------+---------+---------+------------------+\n",
            "|      1|      0.5|      5.0|3.9209302325581397|\n",
            "|     10|      0.5|      5.0| 3.496212121212121|\n",
            "|    100|      1.0|      4.0|2.7857142857142856|\n",
            "| 100044|      4.0|      4.0|               4.0|\n",
            "| 100068|      3.5|      3.5|               3.5|\n",
            "| 100083|      2.0|      5.0|               3.5|\n",
            "| 100106|      3.5|      3.5|               3.5|\n",
            "| 100159|      4.5|      4.5|               4.5|\n",
            "| 100163|      0.5|      4.5|               2.9|\n",
            "| 100194|      4.5|      4.5|               4.5|\n",
            "| 100226|      1.5|      1.5|               1.5|\n",
            "| 100277|      4.0|      4.0|               4.0|\n",
            "|   1003|      2.0|      3.5|               2.5|\n",
            "| 100302|      3.0|      3.0|               3.0|\n",
            "| 100304|      3.0|      3.0|               3.0|\n",
            "| 100306|      3.5|      3.5|               3.5|\n",
            "| 100326|      2.5|      2.5|               2.5|\n",
            "| 100383|      3.5|      5.0|3.9166666666666665|\n",
            "| 100390|      1.5|      4.5|             2.875|\n",
            "| 100397|      3.5|      3.5|               3.5|\n",
            "+-------+---------+---------+------------------+\n",
            "only showing top 20 rows\n",
            "\n"
          ]
        }
      ],
      "source": [
        "ratings \\\n",
        "  .groupBy(\"movieId\") \\\n",
        "  .agg(min(\"rating\").alias(\"minRating\"),\n",
        "       max(\"rating\").alias(\"maxRating\"),\n",
        "       avg(\"rating\").alias(\"avgRating\")) \\\n",
        "  .show(20)"
      ]
    },
    {
      "cell_type": "markdown",
      "id": "6B4adaXosbax",
      "metadata": {
        "id": "6B4adaXosbax"
      },
      "source": [
        "## Output data-set containing users that have rated a movie but not tagged it."
      ]
    },
    {
      "cell_type": "code",
      "execution_count": 72,
      "id": "AM2jafIksL3e",
      "metadata": {
        "id": "AM2jafIksL3e"
      },
      "outputs": [],
      "source": [
        "# This join gives us the rows in ratings such that its `userId, movieId`\n",
        "# combo does not exist in the `tags` table\n",
        "rate_without_tagging = ratings.join(\n",
        "    tags,\n",
        "    how='left_anti',\n",
        "    on=['userId', 'movieId']\n",
        ").select('userId').distinct()"
      ]
    },
    {
      "cell_type": "code",
      "execution_count": 73,
      "id": "f6KUuze8sgMp",
      "metadata": {
        "colab": {
          "base_uri": "https://localhost:8080/"
        },
        "id": "f6KUuze8sgMp",
        "outputId": "8698e4f8-5b2d-48bf-d462-0352a4d76018"
      },
      "outputs": [
        {
          "name": "stdout",
          "output_type": "stream",
          "text": [
            "610 users rated a movie without tagging it.\n"
          ]
        }
      ],
      "source": [
        "print(f'{rate_without_tagging.count()} users rated a movie without tagging it.')"
      ]
    },
    {
      "cell_type": "markdown",
      "id": "PPVXVx1EtYmL",
      "metadata": {
        "id": "PPVXVx1EtYmL"
      },
      "source": [
        "## Output data-set containing users that have rated AND tagged a movie."
      ]
    },
    {
      "cell_type": "code",
      "execution_count": 74,
      "id": "FkN4kvEFtRgf",
      "metadata": {
        "id": "FkN4kvEFtRgf"
      },
      "outputs": [],
      "source": [
        "rate_and_tag_users = ratings.join(\n",
        "    tags,\n",
        "    how='inner',\n",
        "    on=['userId', 'movieId']\n",
        ").select('userId').distinct()"
      ]
    },
    {
      "cell_type": "code",
      "execution_count": 76,
      "id": "nYA9xS17tgYj",
      "metadata": {
        "colab": {
          "base_uri": "https://localhost:8080/"
        },
        "id": "nYA9xS17tgYj",
        "outputId": "1cfc6788-452a-4310-9d53-d0c04da61b43"
      },
      "outputs": [
        {
          "name": "stdout",
          "output_type": "stream",
          "text": [
            "54 users rated a movie and also tagged it.\n"
          ]
        }
      ],
      "source": [
        "print(f'{rate_and_tag_users.count()} users rated a movie and also tagged it.')"
      ]
    },
    {
      "cell_type": "code",
      "execution_count": 84,
      "id": "qHmwFZlPtjLX",
      "metadata": {
        "colab": {
          "base_uri": "https://localhost:8080/"
        },
        "id": "qHmwFZlPtjLX",
        "outputId": "b41f6053-3eb7-47f3-cc23-e01621d41d31"
      },
      "outputs": [
        {
          "name": "stdout",
          "output_type": "stream",
          "text": [
            "Total number of users that left ratings: 610\n"
          ]
        }
      ],
      "source": [
        "print(f\"Total number of users that left ratings: {ratings.select('userId').distinct().count()}\")"
      ]
    },
    {
      "cell_type": "markdown",
      "id": "HKTZJ1epuHr2",
      "metadata": {
        "id": "HKTZJ1epuHr2"
      },
      "source": [
        "## Output data-set showing the number of movies per genre, per year"
      ]
    },
    {
      "cell_type": "code",
      "execution_count": 108,
      "id": "rxiG9cSauHEm",
      "metadata": {
        "colab": {
          "base_uri": "https://localhost:8080/"
        },
        "id": "rxiG9cSauHEm",
        "outputId": "c2e1a1d2-7d9f-4b64-a4a8-3be9e4750e56"
      },
      "outputs": [
        {
          "name": "stdout",
          "output_type": "stream",
          "text": [
            "+-------+----+---------+\n",
            "|  genre|year|numMovies|\n",
            "+-------+----+---------+\n",
            "|Western|2017|        2|\n",
            "|Western|2016|        1|\n",
            "|Western|2015|        4|\n",
            "|Western|2014|        3|\n",
            "|Western|2013|        1|\n",
            "|Western|2012|        1|\n",
            "|Western|2011|        2|\n",
            "|Western|2010|        5|\n",
            "|Western|2009|        2|\n",
            "|Western|2008|        5|\n",
            "+-------+----+---------+\n",
            "only showing top 10 rows\n",
            "\n"
          ]
        }
      ],
      "source": [
        "movies \\\n",
        "  .withColumn(\"genre_array\", split(movies.genres, \"\\|\")) \\\n",
        "  .withColumn('genre', explode(col('genre_array'))) \\\n",
        "  .withColumn('year', regexp_extract(movies.title, '\\((\\d+)\\)', 1)) \\\n",
        "  .groupBy('genre', 'year') \\\n",
        "  .agg(count(\"movieId\").alias(\"numMovies\")) \\\n",
        "  .orderBy(['genre', 'year'], ascending=False) \\\n",
        "  .show(10) "
      ]
    }
  ],
  "metadata": {
    "colab": {
      "collapsed_sections": [],
      "name": "Movielens.ipynb",
      "provenance": []
    },
    "kernelspec": {
      "display_name": "Python 3.9.7 64-bit",
      "language": "python",
      "name": "python3"
    },
    "language_info": {
      "codemirror_mode": {
        "name": "ipython",
        "version": 3
      },
      "file_extension": ".py",
      "mimetype": "text/x-python",
      "name": "python",
      "nbconvert_exporter": "python",
      "pygments_lexer": "ipython3",
      "version": "3.9.12"
    },
    "vscode": {
      "interpreter": {
        "hash": "ac2eaa0ea0ebeafcc7822e65e46aa9d4f966f30b695406963e145ea4a91cd4fc"
      }
    }
  },
  "nbformat": 4,
  "nbformat_minor": 5
}
