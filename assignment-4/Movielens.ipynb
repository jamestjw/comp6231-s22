{
  "cells": [
    {
      "cell_type": "code",
      "execution_count": 1,
      "id": "Do7ytptolhDa",
      "metadata": {
        "colab": {
          "base_uri": "https://localhost:8080/"
        },
        "id": "Do7ytptolhDa",
        "outputId": "6949fe9a-b3f0-4874-a8ed-36700c842cf9"
      },
      "outputs": [
        {
          "output_type": "stream",
          "name": "stdout",
          "text": [
            "  % Total    % Received % Xferd  Average Speed   Time    Time     Time  Current\n",
            "                                 Dload  Upload   Total   Spent    Left  Speed\n",
            "100  216M  100  216M    0     0   233M      0 --:--:-- --:--:-- --:--:--  233M\n"
          ]
        }
      ],
      "source": [
        "# Uncomment this block to run in Colab\n",
        "!apt-get install openjdk-8-jdk-headless -qq > /dev/null\n",
        "!curl https://dlcdn.apache.org/spark/spark-3.1.3/spark-3.1.3-bin-hadoop2.7.tgz -o spark-3.1.3-bin-hadoop2.7.tgz\n",
        "!tar -xzf spark-3.1.3-bin-hadoop2.7.tgz\n",
        "!pip install -q findspark\n",
        "\n",
        "import findspark\n",
        "import os\n",
        "\n",
        "os.environ[\"JAVA_HOME\"] = \"/usr/lib/jvm/java-8-openjdk-amd64\"\n",
        "os.environ[\"SPARK_HOME\"] = \"/content/spark-3.1.3-bin-hadoop2.7\"\n",
        "\n",
        "\n",
        "findspark.init()"
      ]
    },
    {
      "cell_type": "code",
      "execution_count": 3,
      "id": "9a59fbeb",
      "metadata": {
        "id": "9a59fbeb"
      },
      "outputs": [],
      "source": [
        "from pathlib import Path\n",
        "import requests\n",
        "import zipfile\n",
        "from pyspark.sql import SparkSession\n",
        "from pyspark.sql.functions import count, col, desc, min, avg, max, split, explode, regexp_extract"
      ]
    },
    {
      "cell_type": "code",
      "execution_count": 4,
      "id": "d802a4fd",
      "metadata": {
        "id": "d802a4fd"
      },
      "outputs": [],
      "source": [
        "data_dir = Path('./data')\n",
        "data_dir.mkdir(exist_ok=True)\n",
        "\n",
        "ml_data_dir = data_dir/'ml-latest-small'"
      ]
    },
    {
      "cell_type": "code",
      "execution_count": 5,
      "id": "f3665aa9",
      "metadata": {
        "id": "f3665aa9"
      },
      "outputs": [],
      "source": [
        "if not ml_data_dir.exists():\n",
        "    zip_output_path = data_dir/\"ml-latest-small.zip\"\n",
        "    data_url = \"http://files.grouplens.org/datasets/movielens/ml-latest-small.zip\"\n",
        "    response = requests.get(data_url)\n",
        "    open(zip_output_path, \"wb\").write(response.content)\n",
        "    with zipfile.ZipFile(zip_output_path, 'r') as zip_ref:\n",
        "        zip_ref.extractall(data_dir)"
      ]
    },
    {
      "cell_type": "code",
      "execution_count": 7,
      "id": "mzmzQpnZqPRP",
      "metadata": {
        "id": "mzmzQpnZqPRP"
      },
      "outputs": [],
      "source": [
        "spark = SparkSession \\\n",
        "            .builder \\\n",
        "            .appName(\"movielens-nb\") \\\n",
        "            .master(\"local\") \\\n",
        "            .config(\"spark.executor.memory\", \"512m\") \\\n",
        "            .getOrCreate() \\"
      ]
    },
    {
      "cell_type": "code",
      "execution_count": 8,
      "id": "86eca708",
      "metadata": {
        "id": "86eca708"
      },
      "outputs": [],
      "source": [
        "movies_dataset_path = ml_data_dir/\"movies.csv\"\n",
        "ratings_dataset_path = ml_data_dir/\"ratings.csv\"\n",
        "tags_dataset_path = ml_data_dir/\"tags.csv\"\n",
        "\n",
        "assert movies_dataset_path.exists()\n",
        "assert ratings_dataset_path.exists()\n",
        "assert tags_dataset_path.exists()"
      ]
    },
    {
      "cell_type": "code",
      "execution_count": 9,
      "id": "5f46fa4b",
      "metadata": {
        "id": "5f46fa4b"
      },
      "outputs": [],
      "source": [
        "movies = spark.read.csv(str(movies_dataset_path), header=True)\n",
        "ratings = spark.read.csv(str(ratings_dataset_path), header=True)\n",
        "tags = spark.read.csv(str(tags_dataset_path), header=True)"
      ]
    },
    {
      "cell_type": "markdown",
      "id": "0788abc5",
      "metadata": {
        "id": "0788abc5"
      },
      "source": [
        "## How many movies of genre `drama` are there?"
      ]
    },
    {
      "cell_type": "code",
      "execution_count": 10,
      "id": "tDxyOAzOn0Ga",
      "metadata": {
        "colab": {
          "base_uri": "https://localhost:8080/"
        },
        "id": "tDxyOAzOn0Ga",
        "outputId": "ebfb8cf6-1298-48f2-d128-3daf1ff45e48"
      },
      "outputs": [
        {
          "output_type": "execute_result",
          "data": {
            "text/plain": [
              "4361"
            ]
          },
          "metadata": {},
          "execution_count": 10
        }
      ],
      "source": [
        "movies.where(movies.genres.contains('Drama')).count()"
      ]
    },
    {
      "cell_type": "markdown",
      "id": "AFaDu8LkoYf7",
      "metadata": {
        "id": "AFaDu8LkoYf7"
      },
      "source": [
        "## How many unique movies are rated, how many are not rated?"
      ]
    },
    {
      "cell_type": "code",
      "execution_count": 11,
      "id": "-170kvMRp5T2",
      "metadata": {
        "colab": {
          "base_uri": "https://localhost:8080/"
        },
        "id": "-170kvMRp5T2",
        "outputId": "379707a8-19c4-4c75-f493-d663e261d1ee"
      },
      "outputs": [
        {
          "output_type": "stream",
          "name": "stdout",
          "text": [
            "Total number of movies in the dataset: 9742\n"
          ]
        }
      ],
      "source": [
        "print(f\"Total number of movies in the dataset: {movies.count()}\")"
      ]
    },
    {
      "cell_type": "code",
      "execution_count": 12,
      "id": "aLh3dkF8oTG7",
      "metadata": {
        "id": "aLh3dkF8oTG7"
      },
      "outputs": [],
      "source": [
        "movie_ratings = movies.join(ratings, on=\"movieId\", how=\"outer\")"
      ]
    },
    {
      "cell_type": "code",
      "execution_count": 13,
      "id": "G-3p11V7o2C6",
      "metadata": {
        "colab": {
          "base_uri": "https://localhost:8080/"
        },
        "id": "G-3p11V7o2C6",
        "outputId": "7a22f8fa-5b91-4732-9d0d-7a6be7022909"
      },
      "outputs": [
        {
          "output_type": "stream",
          "name": "stdout",
          "text": [
            "Number of unique rated movies: 9724\n"
          ]
        }
      ],
      "source": [
        "num_unique_rated_movies = movie_ratings \\\n",
        "                          .where(movie_ratings.rating.isNotNull()) \\\n",
        "                          .select(\"movieId\") \\\n",
        "                          .distinct() \\\n",
        "                          .count()\n",
        "\n",
        "print(f\"Number of unique rated movies: {num_unique_rated_movies}\")"
      ]
    },
    {
      "cell_type": "code",
      "execution_count": 14,
      "id": "UGN7yzbVpV61",
      "metadata": {
        "colab": {
          "base_uri": "https://localhost:8080/"
        },
        "id": "UGN7yzbVpV61",
        "outputId": "0268b91b-526e-4b8d-8915-cc19ddb9da89"
      },
      "outputs": [
        {
          "output_type": "stream",
          "name": "stdout",
          "text": [
            "Number of unique unrated movies: 18\n"
          ]
        }
      ],
      "source": [
        "num_unique_unrated_movies = movie_ratings \\\n",
        "                          .where(movie_ratings.rating.isNull()) \\\n",
        "                          .select(\"movieId\") \\\n",
        "                          .distinct() \\\n",
        "                          .count()\n",
        "\n",
        "print(f\"Number of unique unrated movies: {num_unique_unrated_movies}\")"
      ]
    },
    {
      "cell_type": "markdown",
      "id": "nakChZnKqZYq",
      "metadata": {
        "id": "nakChZnKqZYq"
      },
      "source": [
        "## Who gave the most ratings, how many rates did the person make?"
      ]
    },
    {
      "cell_type": "code",
      "execution_count": 15,
      "id": "SnKNfrPVp9fc",
      "metadata": {
        "colab": {
          "base_uri": "https://localhost:8080/"
        },
        "id": "SnKNfrPVp9fc",
        "outputId": "c5632acc-ed6d-4022-a016-459833d6ab82"
      },
      "outputs": [
        {
          "output_type": "stream",
          "name": "stdout",
          "text": [
            "+------+----------+\n",
            "|userId|numRatings|\n",
            "+------+----------+\n",
            "|   414|      2698|\n",
            "+------+----------+\n",
            "only showing top 1 row\n",
            "\n"
          ]
        }
      ],
      "source": [
        "ratings \\\n",
        "  .groupBy(\"userId\") \\\n",
        "  .agg(count(\"movieId\").alias(\"numRatings\")) \\\n",
        "  .sort(desc(\"numRatings\")) \\\n",
        "  .show(1)"
      ]
    },
    {
      "cell_type": "markdown",
      "id": "U2vmUAbard0G",
      "metadata": {
        "id": "U2vmUAbard0G"
      },
      "source": [
        "## Compute min, average, max rating per movie."
      ]
    },
    {
      "cell_type": "code",
      "execution_count": 16,
      "id": "1xZ9ySeKrbkd",
      "metadata": {
        "colab": {
          "base_uri": "https://localhost:8080/"
        },
        "id": "1xZ9ySeKrbkd",
        "outputId": "63c19d57-dbe7-4a57-eec2-81b1a5f4bfcf"
      },
      "outputs": [
        {
          "output_type": "stream",
          "name": "stdout",
          "text": [
            "+-------+---------+---------+------------------+\n",
            "|movieId|minRating|maxRating|         avgRating|\n",
            "+-------+---------+---------+------------------+\n",
            "| 100553|      4.5|      4.5|               4.5|\n",
            "| 102684|      3.5|      4.0|              3.75|\n",
            "|   1090|      1.0|      5.0| 3.984126984126984|\n",
            "| 112911|      0.5|      4.0|               2.0|\n",
            "| 115713|      0.5|      5.0|3.9107142857142856|\n",
            "| 117630|      1.0|      1.0|               1.0|\n",
            "| 119655|      1.0|      3.5|              2.25|\n",
            "| 120478|      3.5|      5.0| 4.333333333333333|\n",
            "| 121007|      4.0|      4.0|               4.0|\n",
            "|   1572|      2.5|      3.5|               3.0|\n",
            "| 158813|      1.0|      3.0|               2.0|\n",
            "| 173535|      4.5|      4.5|               4.5|\n",
            "|   2069|      3.5|      5.0|              4.25|\n",
            "|   2088|      1.0|      4.0|               2.5|\n",
            "|   2136|      0.5|      5.0|2.4642857142857144|\n",
            "|   2162|      1.0|      3.5|               2.5|\n",
            "|   2294|      1.5|      5.0|3.2444444444444445|\n",
            "|  26082|      4.0|      5.0|               4.5|\n",
            "|  27317|      3.0|      4.5|              3.75|\n",
            "|    296|      0.5|      5.0| 4.197068403908795|\n",
            "+-------+---------+---------+------------------+\n",
            "only showing top 20 rows\n",
            "\n"
          ]
        }
      ],
      "source": [
        "ratings \\\n",
        "  .groupBy(\"movieId\") \\\n",
        "  .agg(min(\"rating\").alias(\"minRating\"),\n",
        "       max(\"rating\").alias(\"maxRating\"),\n",
        "       avg(\"rating\").alias(\"avgRating\")) \\\n",
        "  .show(20)"
      ]
    },
    {
      "cell_type": "markdown",
      "id": "6B4adaXosbax",
      "metadata": {
        "id": "6B4adaXosbax"
      },
      "source": [
        "## Output data-set containing users that have rated a movie but not tagged it."
      ]
    },
    {
      "cell_type": "code",
      "execution_count": 17,
      "id": "AM2jafIksL3e",
      "metadata": {
        "id": "AM2jafIksL3e"
      },
      "outputs": [],
      "source": [
        "# This join gives us the rows in ratings such that its `userId, movieId`\n",
        "# combo does not exist in the `tags` table\n",
        "rate_without_tagging = ratings.join(\n",
        "    tags,\n",
        "    how='left_anti',\n",
        "    on=['userId', 'movieId']\n",
        ").select('userId').distinct()"
      ]
    },
    {
      "cell_type": "code",
      "execution_count": 18,
      "id": "f6KUuze8sgMp",
      "metadata": {
        "colab": {
          "base_uri": "https://localhost:8080/"
        },
        "id": "f6KUuze8sgMp",
        "outputId": "efe365de-0ba2-4b49-894b-d3d22d6cd453"
      },
      "outputs": [
        {
          "output_type": "stream",
          "name": "stdout",
          "text": [
            "610 users rated a movie without tagging it.\n"
          ]
        }
      ],
      "source": [
        "print(f'{rate_without_tagging.count()} users rated a movie without tagging it.')"
      ]
    },
    {
      "cell_type": "markdown",
      "id": "PPVXVx1EtYmL",
      "metadata": {
        "id": "PPVXVx1EtYmL"
      },
      "source": [
        "## Output data-set containing users that have rated AND tagged a movie."
      ]
    },
    {
      "cell_type": "code",
      "execution_count": 19,
      "id": "FkN4kvEFtRgf",
      "metadata": {
        "id": "FkN4kvEFtRgf"
      },
      "outputs": [],
      "source": [
        "rate_and_tag_users = ratings.join(\n",
        "    tags,\n",
        "    how='inner',\n",
        "    on=['userId', 'movieId']\n",
        ").select('userId').distinct()"
      ]
    },
    {
      "cell_type": "code",
      "execution_count": 20,
      "id": "nYA9xS17tgYj",
      "metadata": {
        "colab": {
          "base_uri": "https://localhost:8080/"
        },
        "id": "nYA9xS17tgYj",
        "outputId": "d895162d-c802-462e-ee1a-65cd093ea658"
      },
      "outputs": [
        {
          "output_type": "stream",
          "name": "stdout",
          "text": [
            "54 users rated a movie and also tagged it.\n"
          ]
        }
      ],
      "source": [
        "print(f'{rate_and_tag_users.count()} users rated a movie and also tagged it.')"
      ]
    },
    {
      "cell_type": "code",
      "execution_count": 21,
      "id": "qHmwFZlPtjLX",
      "metadata": {
        "colab": {
          "base_uri": "https://localhost:8080/"
        },
        "id": "qHmwFZlPtjLX",
        "outputId": "a019f039-cab6-4a9a-e001-04f010f7e226"
      },
      "outputs": [
        {
          "output_type": "stream",
          "name": "stdout",
          "text": [
            "Total number of users that left ratings: 610\n"
          ]
        }
      ],
      "source": [
        "print(f\"Total number of users that left ratings: {ratings.select('userId').distinct().count()}\")"
      ]
    },
    {
      "cell_type": "markdown",
      "id": "HKTZJ1epuHr2",
      "metadata": {
        "id": "HKTZJ1epuHr2"
      },
      "source": [
        "## Output data-set showing the number of movies per genre, per year"
      ]
    },
    {
      "cell_type": "code",
      "execution_count": 22,
      "id": "rxiG9cSauHEm",
      "metadata": {
        "colab": {
          "base_uri": "https://localhost:8080/"
        },
        "id": "rxiG9cSauHEm",
        "outputId": "3da4cf03-c404-4a71-e90e-53e21c06d49c"
      },
      "outputs": [
        {
          "output_type": "stream",
          "name": "stdout",
          "text": [
            "+-------+----+---------+\n",
            "|  genre|year|numMovies|\n",
            "+-------+----+---------+\n",
            "|Western|2017|        2|\n",
            "|Western|2016|        1|\n",
            "|Western|2015|        4|\n",
            "|Western|2014|        3|\n",
            "|Western|2013|        1|\n",
            "|Western|2012|        1|\n",
            "|Western|2011|        2|\n",
            "|Western|2010|        5|\n",
            "|Western|2009|        2|\n",
            "|Western|2008|        5|\n",
            "+-------+----+---------+\n",
            "only showing top 10 rows\n",
            "\n"
          ]
        }
      ],
      "source": [
        "movies \\\n",
        "  .withColumn(\"genre_array\", split(movies.genres, \"\\|\")) \\\n",
        "  .withColumn('genre', explode(col('genre_array'))) \\\n",
        "  .withColumn('year', regexp_extract(movies.title, '\\((\\d+)\\)', 1)) \\\n",
        "  .groupBy('genre', 'year') \\\n",
        "  .agg(count(\"movieId\").alias(\"numMovies\")) \\\n",
        "  .orderBy(['genre', 'year'], ascending=False) \\\n",
        "  .show(10) "
      ]
    }
  ],
  "metadata": {
    "colab": {
      "collapsed_sections": [],
      "name": "Movielens.ipynb",
      "provenance": []
    },
    "kernelspec": {
      "display_name": "Python 3.9.7 64-bit",
      "language": "python",
      "name": "python3"
    },
    "language_info": {
      "codemirror_mode": {
        "name": "ipython",
        "version": 3
      },
      "file_extension": ".py",
      "mimetype": "text/x-python",
      "name": "python",
      "nbconvert_exporter": "python",
      "pygments_lexer": "ipython3",
      "version": "3.9.12"
    },
    "vscode": {
      "interpreter": {
        "hash": "ac2eaa0ea0ebeafcc7822e65e46aa9d4f966f30b695406963e145ea4a91cd4fc"
      }
    }
  },
  "nbformat": 4,
  "nbformat_minor": 5
}